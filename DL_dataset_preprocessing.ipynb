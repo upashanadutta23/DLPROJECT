{
 "cells": [
  {
   "cell_type": "markdown",
   "id": "05ce301f-1faf-4f97-a205-6ba4176cd437",
   "metadata": {},
   "source": [
    "### Install the necessary libraries (if not already installed)"
   ]
  },
  {
   "cell_type": "code",
   "execution_count": 1,
   "id": "dba4da4b-4c09-46fa-80ee-18dd0f757472",
   "metadata": {
    "scrolled": true
   },
   "outputs": [
    {
     "name": "stdout",
     "output_type": "stream",
     "text": [
      "Requirement already satisfied: datasets in /Library/Frameworks/Python.framework/Versions/3.13/lib/python3.13/site-packages (3.2.0)\n",
      "Requirement already satisfied: filelock in /Library/Frameworks/Python.framework/Versions/3.13/lib/python3.13/site-packages (from datasets) (3.16.1)\n",
      "Requirement already satisfied: numpy>=1.17 in /Library/Frameworks/Python.framework/Versions/3.13/lib/python3.13/site-packages (from datasets) (2.1.3)\n",
      "Requirement already satisfied: pyarrow>=15.0.0 in /Library/Frameworks/Python.framework/Versions/3.13/lib/python3.13/site-packages (from datasets) (19.0.0)\n",
      "Requirement already satisfied: dill<0.3.9,>=0.3.0 in /Library/Frameworks/Python.framework/Versions/3.13/lib/python3.13/site-packages (from datasets) (0.3.8)\n",
      "Requirement already satisfied: pandas in /Library/Frameworks/Python.framework/Versions/3.13/lib/python3.13/site-packages (from datasets) (2.2.3)\n",
      "Requirement already satisfied: requests>=2.32.2 in /Library/Frameworks/Python.framework/Versions/3.13/lib/python3.13/site-packages (from datasets) (2.32.3)\n",
      "Requirement already satisfied: tqdm>=4.66.3 in /Library/Frameworks/Python.framework/Versions/3.13/lib/python3.13/site-packages (from datasets) (4.67.1)\n",
      "Requirement already satisfied: xxhash in /Library/Frameworks/Python.framework/Versions/3.13/lib/python3.13/site-packages (from datasets) (3.5.0)\n",
      "Requirement already satisfied: multiprocess<0.70.17 in /Library/Frameworks/Python.framework/Versions/3.13/lib/python3.13/site-packages (from datasets) (0.70.16)\n",
      "Requirement already satisfied: fsspec<=2024.9.0,>=2023.1.0 in /Library/Frameworks/Python.framework/Versions/3.13/lib/python3.13/site-packages (from fsspec[http]<=2024.9.0,>=2023.1.0->datasets) (2024.9.0)\n",
      "Requirement already satisfied: aiohttp in /Library/Frameworks/Python.framework/Versions/3.13/lib/python3.13/site-packages (from datasets) (3.11.11)\n",
      "Requirement already satisfied: huggingface-hub>=0.23.0 in /Library/Frameworks/Python.framework/Versions/3.13/lib/python3.13/site-packages (from datasets) (0.26.5)\n",
      "Requirement already satisfied: packaging in /Library/Frameworks/Python.framework/Versions/3.13/lib/python3.13/site-packages (from datasets) (24.1)\n",
      "Requirement already satisfied: pyyaml>=5.1 in /Library/Frameworks/Python.framework/Versions/3.13/lib/python3.13/site-packages (from datasets) (6.0.2)\n",
      "Requirement already satisfied: aiohappyeyeballs>=2.3.0 in /Library/Frameworks/Python.framework/Versions/3.13/lib/python3.13/site-packages (from aiohttp->datasets) (2.4.4)\n",
      "Requirement already satisfied: aiosignal>=1.1.2 in /Library/Frameworks/Python.framework/Versions/3.13/lib/python3.13/site-packages (from aiohttp->datasets) (1.3.2)\n",
      "Requirement already satisfied: attrs>=17.3.0 in /Library/Frameworks/Python.framework/Versions/3.13/lib/python3.13/site-packages (from aiohttp->datasets) (24.2.0)\n",
      "Requirement already satisfied: frozenlist>=1.1.1 in /Library/Frameworks/Python.framework/Versions/3.13/lib/python3.13/site-packages (from aiohttp->datasets) (1.5.0)\n",
      "Requirement already satisfied: multidict<7.0,>=4.5 in /Library/Frameworks/Python.framework/Versions/3.13/lib/python3.13/site-packages (from aiohttp->datasets) (6.1.0)\n",
      "Requirement already satisfied: propcache>=0.2.0 in /Library/Frameworks/Python.framework/Versions/3.13/lib/python3.13/site-packages (from aiohttp->datasets) (0.2.1)\n",
      "Requirement already satisfied: yarl<2.0,>=1.17.0 in /Library/Frameworks/Python.framework/Versions/3.13/lib/python3.13/site-packages (from aiohttp->datasets) (1.18.3)\n",
      "Requirement already satisfied: typing-extensions>=3.7.4.3 in /Library/Frameworks/Python.framework/Versions/3.13/lib/python3.13/site-packages (from huggingface-hub>=0.23.0->datasets) (4.12.2)\n",
      "Requirement already satisfied: charset-normalizer<4,>=2 in /Library/Frameworks/Python.framework/Versions/3.13/lib/python3.13/site-packages (from requests>=2.32.2->datasets) (3.4.0)\n",
      "Requirement already satisfied: idna<4,>=2.5 in /Library/Frameworks/Python.framework/Versions/3.13/lib/python3.13/site-packages (from requests>=2.32.2->datasets) (3.10)\n",
      "Requirement already satisfied: urllib3<3,>=1.21.1 in /Library/Frameworks/Python.framework/Versions/3.13/lib/python3.13/site-packages (from requests>=2.32.2->datasets) (2.2.3)\n",
      "Requirement already satisfied: certifi>=2017.4.17 in /Library/Frameworks/Python.framework/Versions/3.13/lib/python3.13/site-packages (from requests>=2.32.2->datasets) (2025.1.31)\n",
      "Requirement already satisfied: python-dateutil>=2.8.2 in /Library/Frameworks/Python.framework/Versions/3.13/lib/python3.13/site-packages (from pandas->datasets) (2.9.0.post0)\n",
      "Requirement already satisfied: pytz>=2020.1 in /Library/Frameworks/Python.framework/Versions/3.13/lib/python3.13/site-packages (from pandas->datasets) (2024.2)\n",
      "Requirement already satisfied: tzdata>=2022.7 in /Library/Frameworks/Python.framework/Versions/3.13/lib/python3.13/site-packages (from pandas->datasets) (2024.2)\n",
      "Requirement already satisfied: six>=1.5 in /Library/Frameworks/Python.framework/Versions/3.13/lib/python3.13/site-packages (from python-dateutil>=2.8.2->pandas->datasets) (1.16.0)\n",
      "Collecting nibabel\n",
      "  Downloading nibabel-5.3.2-py3-none-any.whl.metadata (9.1 kB)\n",
      "Requirement already satisfied: numpy>=1.22 in /Library/Frameworks/Python.framework/Versions/3.13/lib/python3.13/site-packages (from nibabel) (2.1.3)\n",
      "Requirement already satisfied: packaging>=20 in /Library/Frameworks/Python.framework/Versions/3.13/lib/python3.13/site-packages (from nibabel) (24.1)\n",
      "Downloading nibabel-5.3.2-py3-none-any.whl (3.3 MB)\n",
      "\u001b[2K   \u001b[90m━━━━━━━━━━━━━━━━━━━━━━━━━━━━━━━━━━━━━━━━\u001b[0m \u001b[32m3.3/3.3 MB\u001b[0m \u001b[31m10.7 MB/s\u001b[0m eta \u001b[36m0:00:00\u001b[0ma \u001b[36m0:00:01\u001b[0m\n",
      "\u001b[?25hInstalling collected packages: nibabel\n",
      "Successfully installed nibabel-5.3.2\n",
      "Collecting torch\n",
      "  Downloading torch-2.6.0-cp313-none-macosx_11_0_arm64.whl.metadata (28 kB)\n",
      "Collecting torchvision\n",
      "  Downloading torchvision-0.21.0-cp313-cp313-macosx_11_0_arm64.whl.metadata (6.1 kB)\n",
      "Requirement already satisfied: filelock in /Library/Frameworks/Python.framework/Versions/3.13/lib/python3.13/site-packages (from torch) (3.16.1)\n",
      "Requirement already satisfied: typing-extensions>=4.10.0 in /Library/Frameworks/Python.framework/Versions/3.13/lib/python3.13/site-packages (from torch) (4.12.2)\n",
      "Collecting networkx (from torch)\n",
      "  Downloading networkx-3.4.2-py3-none-any.whl.metadata (6.3 kB)\n",
      "Requirement already satisfied: jinja2 in /Library/Frameworks/Python.framework/Versions/3.13/lib/python3.13/site-packages (from torch) (3.1.4)\n",
      "Requirement already satisfied: fsspec in /Library/Frameworks/Python.framework/Versions/3.13/lib/python3.13/site-packages (from torch) (2024.9.0)\n",
      "Requirement already satisfied: setuptools in /Library/Frameworks/Python.framework/Versions/3.13/lib/python3.13/site-packages (from torch) (75.3.0)\n",
      "Collecting sympy==1.13.1 (from torch)\n",
      "  Downloading sympy-1.13.1-py3-none-any.whl.metadata (12 kB)\n",
      "Collecting mpmath<1.4,>=1.1.0 (from sympy==1.13.1->torch)\n",
      "  Downloading mpmath-1.3.0-py3-none-any.whl.metadata (8.6 kB)\n",
      "Requirement already satisfied: numpy in /Library/Frameworks/Python.framework/Versions/3.13/lib/python3.13/site-packages (from torchvision) (2.1.3)\n",
      "Requirement already satisfied: pillow!=8.3.*,>=5.3.0 in /Library/Frameworks/Python.framework/Versions/3.13/lib/python3.13/site-packages (from torchvision) (11.0.0)\n",
      "Requirement already satisfied: MarkupSafe>=2.0 in /Library/Frameworks/Python.framework/Versions/3.13/lib/python3.13/site-packages (from jinja2->torch) (3.0.2)\n",
      "Downloading torch-2.6.0-cp313-none-macosx_11_0_arm64.whl (66.5 MB)\n",
      "\u001b[2K   \u001b[90m━━━━━━━━━━━━━━━━━━━━━━━━━━━━━━━━━━━━━━━━\u001b[0m \u001b[32m66.5/66.5 MB\u001b[0m \u001b[31m15.6 MB/s\u001b[0m eta \u001b[36m0:00:00\u001b[0m00:01\u001b[0m00:01\u001b[0m\n",
      "\u001b[?25hDownloading sympy-1.13.1-py3-none-any.whl (6.2 MB)\n",
      "\u001b[2K   \u001b[90m━━━━━━━━━━━━━━━━━━━━━━━━━━━━━━━━━━━━━━━━\u001b[0m \u001b[32m6.2/6.2 MB\u001b[0m \u001b[31m13.9 MB/s\u001b[0m eta \u001b[36m0:00:00\u001b[0ma \u001b[36m0:00:01\u001b[0m\n",
      "\u001b[?25hDownloading torchvision-0.21.0-cp313-cp313-macosx_11_0_arm64.whl (1.8 MB)\n",
      "\u001b[2K   \u001b[90m━━━━━━━━━━━━━━━━━━━━━━━━━━━━━━━━━━━━━━━━\u001b[0m \u001b[32m1.8/1.8 MB\u001b[0m \u001b[31m18.4 MB/s\u001b[0m eta \u001b[36m0:00:00\u001b[0m\n",
      "\u001b[?25hDownloading networkx-3.4.2-py3-none-any.whl (1.7 MB)\n",
      "\u001b[2K   \u001b[90m━━━━━━━━━━━━━━━━━━━━━━━━━━━━━━━━━━━━━━━━\u001b[0m \u001b[32m1.7/1.7 MB\u001b[0m \u001b[31m17.4 MB/s\u001b[0m eta \u001b[36m0:00:00\u001b[0m\n",
      "\u001b[?25hDownloading mpmath-1.3.0-py3-none-any.whl (536 kB)\n",
      "\u001b[2K   \u001b[90m━━━━━━━━━━━━━━━━━━━━━━━━━━━━━━━━━━━━━━━━\u001b[0m \u001b[32m536.2/536.2 kB\u001b[0m \u001b[31m11.8 MB/s\u001b[0m eta \u001b[36m0:00:00\u001b[0m\n",
      "\u001b[?25hInstalling collected packages: mpmath, sympy, networkx, torch, torchvision\n",
      "Successfully installed mpmath-1.3.0 networkx-3.4.2 sympy-1.13.1 torch-2.6.0 torchvision-0.21.0\n"
     ]
    }
   ],
   "source": [
    "# install Hugging Face Datasets\n",
    "!pip install datasets\n",
    "\n",
    "# optional installs: NiBabel and PyTorch\n",
    "!pip install nibabel\n",
    "!pip install torch torchvision\n",
    "\n"
   ]
  },
  {
   "cell_type": "markdown",
   "id": "726b32c3-0d56-42dd-9b7d-01a6e7296adf",
   "metadata": {},
   "source": [
    "### Import the libraries"
   ]
  },
  {
   "cell_type": "code",
   "execution_count": 2,
   "id": "928e50ad-e1f8-4f38-98d1-d78a3abb9bb8",
   "metadata": {},
   "outputs": [],
   "source": [
    "import nibabel as nib\n",
    "import torch\n",
    "import torch.nn.functional as F\n",
    "from torch.utils.data import DataLoader\n",
    "from datasets import load_dataset, load_from_disk"
   ]
  },
  {
   "cell_type": "markdown",
   "id": "976fa528-c871-489c-b713-dd8b7abd3abc",
   "metadata": {},
   "source": [
    "### Function to process the scanned brain data"
   ]
  },
  {
   "cell_type": "code",
   "execution_count": 3,
   "id": "035ccfef-7c3c-4b26-b939-d90137f5d396",
   "metadata": {},
   "outputs": [],
   "source": [
    "def preprocess_nifti(example):\n",
    "    \"\"\"\n",
    "    Loads a .nii.gz file, crops, normalizes, and resamples to 96^3.\n",
    "    Returns a numpy array (or tensor) in example[\"img\"].\n",
    "    \"\"\"\n",
    "    nii_path = example[\"nii_filepath\"]\n",
    "    # Load volume data\n",
    "    vol = nib.load(nii_path).get_fdata()\n",
    "\n",
    "    # Crop sub-volume\n",
    "    vol = vol[7:105, 8:132, :108]  # shape: (98, 124, 108)\n",
    "\n",
    "    # Shift intensities to be non-negative\n",
    "    vol = vol + abs(vol.min())\n",
    "    # Normalize to [0,1]\n",
    "    vol = vol / vol.max()\n",
    "\n",
    "    # Convert to torch.Tensor: (1,1,D,H,W)\n",
    "    t_tensor = torch.from_numpy(vol).float().unsqueeze(0).unsqueeze(0)\n",
    "\n",
    "    # Scale factor based on (124 -> 96) for the y-dimension\n",
    "    scale_factor = 96 / 124\n",
    "    downsampled = F.interpolate(\n",
    "        t_tensor,\n",
    "        scale_factor=(scale_factor, scale_factor, scale_factor),\n",
    "        mode=\"trilinear\",\n",
    "        align_corners=False\n",
    "    )\n",
    "\n",
    "    # Now pad each dimension to exactly 96 (symmetric padding)\n",
    "    _, _, d, h, w = downsampled.shape\n",
    "    pad_d = 96 - d\n",
    "    pad_h = 96 - h\n",
    "    pad_w = 96 - w\n",
    "    padding = (\n",
    "        pad_w // 2, pad_w - pad_w // 2,\n",
    "        pad_h // 2, pad_h - pad_h // 2,\n",
    "        pad_d // 2, pad_d - pad_d // 2\n",
    "    )\n",
    "    final_img = F.pad(downsampled, padding)  # shape => (1, 1, 96, 96, 96)\n",
    "    final_img = final_img.squeeze(0)\n",
    "\n",
    "    # Store as numpy or keep as torch.Tensor\n",
    "    example[\"img\"] = final_img.numpy()\n",
    "    return example"
   ]
  },
  {
   "cell_type": "markdown",
   "id": "39f39898-db69-4453-9c65-c977b9af47a9",
   "metadata": {},
   "source": [
    "### Load the dataset from [huggingface](https://huggingface.co/datasets/radiata-ai/brain-structure)"
   ]
  },
  {
   "cell_type": "code",
   "execution_count": 4,
   "id": "63cfba8f-0a8c-4b52-a44a-f13b3dc3d6af",
   "metadata": {},
   "outputs": [],
   "source": [
    "ds_train = load_dataset(\"radiata-ai/brain-structure\", split=\"train\", trust_remote_code=True)\n",
    "ds_val = load_dataset(\"radiata-ai/brain-structure\", split=\"validation\", trust_remote_code=True)\n",
    "ds_test = load_dataset(\"radiata-ai/brain-structure\", split=\"test\", trust_remote_code=True)"
   ]
  },
  {
   "cell_type": "markdown",
   "id": "278096a6-dc38-4341-b997-1ef879e23761",
   "metadata": {},
   "source": [
    "### Process the data"
   ]
  },
  {
   "cell_type": "code",
   "execution_count": 5,
   "id": "6f39a66a-aca9-490a-885b-c60991d1571c",
   "metadata": {},
   "outputs": [
    {
     "data": {
      "application/vnd.jupyter.widget-view+json": {
       "model_id": "e7b3315650b646b884d2e792be6d0d01",
       "version_major": 2,
       "version_minor": 0
      },
      "text/plain": [
       "Map:   0%|          | 0/3066 [00:00<?, ? examples/s]"
      ]
     },
     "metadata": {},
     "output_type": "display_data"
    },
    {
     "data": {
      "application/vnd.jupyter.widget-view+json": {
       "model_id": "bdbe8612eca8427f87991640ab6179db",
       "version_major": 2,
       "version_minor": 0
      },
      "text/plain": [
       "Map:   0%|          | 0/364 [00:00<?, ? examples/s]"
      ]
     },
     "metadata": {},
     "output_type": "display_data"
    },
    {
     "data": {
      "application/vnd.jupyter.widget-view+json": {
       "model_id": "863cb2c58edd4e7aafcda3bde578f180",
       "version_major": 2,
       "version_minor": 0
      },
      "text/plain": [
       "Map:   0%|          | 0/364 [00:00<?, ? examples/s]"
      ]
     },
     "metadata": {},
     "output_type": "display_data"
    }
   ],
   "source": [
    "# Apply the preprocessing to each split\n",
    "ds_train = ds_train.map(preprocess_nifti)\n",
    "ds_val   = ds_val.map(preprocess_nifti)\n",
    "ds_test  = ds_test.map(preprocess_nifti)\n",
    "\n",
    "# Set the dataset format to return PyTorch tensors for the 'img' column\n",
    "ds_train.set_format(type='torch', columns=['img'])\n",
    "ds_val.set_format(type='torch', columns=['img'])\n",
    "ds_test.set_format(type='torch', columns=['img'])"
   ]
  },
  {
   "cell_type": "markdown",
   "id": "450b193f-124e-45ac-b8ab-3ed756f0dc31",
   "metadata": {},
   "source": [
    "### Save data to disk for uploading"
   ]
  },
  {
   "cell_type": "code",
   "execution_count": 6,
   "id": "ff76ea55-5ba2-4a73-b7c4-f3ed7a0e9541",
   "metadata": {},
   "outputs": [
    {
     "data": {
      "application/vnd.jupyter.widget-view+json": {
       "model_id": "47a5b2b3e7e64e5f8008095e52fdd2c1",
       "version_major": 2,
       "version_minor": 0
      },
      "text/plain": [
       "Saving the dataset (0/22 shards):   0%|          | 0/3066 [00:00<?, ? examples/s]"
      ]
     },
     "metadata": {},
     "output_type": "display_data"
    },
    {
     "data": {
      "application/vnd.jupyter.widget-view+json": {
       "model_id": "4901f637b7ee42bdbddb1ac6aacee418",
       "version_major": 2,
       "version_minor": 0
      },
      "text/plain": [
       "Saving the dataset (0/3 shards):   0%|          | 0/364 [00:00<?, ? examples/s]"
      ]
     },
     "metadata": {},
     "output_type": "display_data"
    },
    {
     "data": {
      "application/vnd.jupyter.widget-view+json": {
       "model_id": "d317dcaacf484f73872bc035d8bdf121",
       "version_major": 2,
       "version_minor": 0
      },
      "text/plain": [
       "Saving the dataset (0/3 shards):   0%|          | 0/364 [00:00<?, ? examples/s]"
      ]
     },
     "metadata": {},
     "output_type": "display_data"
    }
   ],
   "source": [
    "ds_train.save_to_disk('exported_brain_images/train')\n",
    "ds_val.save_to_disk('exported_brain_images/val')\n",
    "ds_test.save_to_disk('exported_brain_images/test')"
   ]
  },
  {
   "cell_type": "markdown",
   "id": "21eb00f1-4343-4003-9e73-1cf4ab18eec1",
   "metadata": {},
   "source": [
    "### Load data from disk (if needed)"
   ]
  },
  {
   "cell_type": "code",
   "execution_count": 7,
   "id": "3766db38-acc3-4141-8dd1-38d595783c24",
   "metadata": {},
   "outputs": [],
   "source": [
    "# ds_train = load_from_disk('exported_brain_images/train')\n",
    "# ds_val = load_from_disk('exported_brain_images/val')\n",
    "# ds_test = load_from_disk('exported_brain_images/test')"
   ]
  },
  {
   "cell_type": "code",
   "execution_count": 8,
   "id": "a84443b0-d7a4-41fd-96f7-107ada0beaa6",
   "metadata": {},
   "outputs": [],
   "source": [
    "# Set up data loaders for model training\n",
    "train_loader = DataLoader(ds_train, batch_size=16, shuffle=True)\n",
    "val_loader   = DataLoader(ds_val, batch_size=16, shuffle=False)\n",
    "test_loader  = DataLoader(ds_test, batch_size=16, shuffle=False)"
   ]
  },
  {
   "cell_type": "code",
   "execution_count": null,
   "id": "e534bb9e-46a9-4e09-bc7d-933e62147432",
   "metadata": {},
   "outputs": [],
   "source": []
  }
 ],
 "metadata": {
  "kernelspec": {
   "display_name": "Python 3 (ipykernel)",
   "language": "python",
   "name": "python3"
  },
  "language_info": {
   "codemirror_mode": {
    "name": "ipython",
    "version": 3
   },
   "file_extension": ".py",
   "mimetype": "text/x-python",
   "name": "python",
   "nbconvert_exporter": "python",
   "pygments_lexer": "ipython3",
   "version": "3.13.0"
  }
 },
 "nbformat": 4,
 "nbformat_minor": 5
}
