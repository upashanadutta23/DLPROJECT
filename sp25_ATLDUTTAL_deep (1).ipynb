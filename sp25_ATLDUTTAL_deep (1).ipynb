{
 "cells": [
  {
   "cell_type": "markdown",
   "id": "a9372c68-0d0d-4906-a0f9-4aee9251d85e",
   "metadata": {},
   "source": [
    "\n",
    "***INTRODUCTION and DATASET OVERVIEW*** : The Stanford Question Answering Dataset (SQuAD) v2, available on Hugging Face Datasets, is a benchmark for evaluating machine reading comprehension and question-answering models. It includes both answerable and unanswerable questions, challenging models to extract accurate answers or identify when no valid answer exists. The main goal of this project is to develop a robust question-answering model that can accurately extract answers from a given context while also identifying when a question is unanswerable. By leveraging the SQuAD v2 dataset, the project aims to fine-tune a transformer-based model, such as BERT or RoBERTa, to enhance its ability to understand context, reason effectively, and handle real-world QA scenarios where answers may or may not exist. This project ultimately seeks to build a reliable and intelligent QA system applicable to practical use cases.\n",
    "\n"
   ]
  },
  {
   "cell_type": "markdown",
   "id": "c2cb8e19-9044-4c0c-abcc-a988cfece230",
   "metadata": {},
   "source": [
    "### Installing and Importing Required Libraries"
   ]
  },
  {
   "cell_type": "code",
   "execution_count": 1,
   "id": "9fa18d62-4cee-4e36-ad89-27f24e107ae7",
   "metadata": {},
   "outputs": [
    {
     "name": "stdout",
     "output_type": "stream",
     "text": [
      "Requirement already satisfied: datasets in /Library/Frameworks/Python.framework/Versions/3.13/lib/python3.13/site-packages (3.2.0)\n",
      "Requirement already satisfied: transformers in /Library/Frameworks/Python.framework/Versions/3.13/lib/python3.13/site-packages (4.47.0)\n",
      "Requirement already satisfied: torch in /Library/Frameworks/Python.framework/Versions/3.13/lib/python3.13/site-packages (2.6.0)\n",
      "Requirement already satisfied: filelock in /Library/Frameworks/Python.framework/Versions/3.13/lib/python3.13/site-packages (from datasets) (3.16.1)\n",
      "Requirement already satisfied: numpy>=1.17 in /Library/Frameworks/Python.framework/Versions/3.13/lib/python3.13/site-packages (from datasets) (2.1.3)\n",
      "Requirement already satisfied: pyarrow>=15.0.0 in /Library/Frameworks/Python.framework/Versions/3.13/lib/python3.13/site-packages (from datasets) (19.0.0)\n",
      "Requirement already satisfied: dill<0.3.9,>=0.3.0 in /Library/Frameworks/Python.framework/Versions/3.13/lib/python3.13/site-packages (from datasets) (0.3.8)\n",
      "Requirement already satisfied: pandas in /Library/Frameworks/Python.framework/Versions/3.13/lib/python3.13/site-packages (from datasets) (2.2.3)\n",
      "Requirement already satisfied: requests>=2.32.2 in /Library/Frameworks/Python.framework/Versions/3.13/lib/python3.13/site-packages (from datasets) (2.32.3)\n",
      "Requirement already satisfied: tqdm>=4.66.3 in /Library/Frameworks/Python.framework/Versions/3.13/lib/python3.13/site-packages (from datasets) (4.67.1)\n",
      "Requirement already satisfied: xxhash in /Library/Frameworks/Python.framework/Versions/3.13/lib/python3.13/site-packages (from datasets) (3.5.0)\n",
      "Requirement already satisfied: multiprocess<0.70.17 in /Library/Frameworks/Python.framework/Versions/3.13/lib/python3.13/site-packages (from datasets) (0.70.16)\n",
      "Requirement already satisfied: fsspec<=2024.9.0,>=2023.1.0 in /Library/Frameworks/Python.framework/Versions/3.13/lib/python3.13/site-packages (from fsspec[http]<=2024.9.0,>=2023.1.0->datasets) (2024.9.0)\n",
      "Requirement already satisfied: aiohttp in /Library/Frameworks/Python.framework/Versions/3.13/lib/python3.13/site-packages (from datasets) (3.11.11)\n",
      "Requirement already satisfied: huggingface-hub>=0.23.0 in /Library/Frameworks/Python.framework/Versions/3.13/lib/python3.13/site-packages (from datasets) (0.26.5)\n",
      "Requirement already satisfied: packaging in /Library/Frameworks/Python.framework/Versions/3.13/lib/python3.13/site-packages (from datasets) (24.1)\n",
      "Requirement already satisfied: pyyaml>=5.1 in /Library/Frameworks/Python.framework/Versions/3.13/lib/python3.13/site-packages (from datasets) (6.0.2)\n",
      "Requirement already satisfied: regex!=2019.12.17 in /Library/Frameworks/Python.framework/Versions/3.13/lib/python3.13/site-packages (from transformers) (2024.11.6)\n",
      "Requirement already satisfied: tokenizers<0.22,>=0.21 in /Library/Frameworks/Python.framework/Versions/3.13/lib/python3.13/site-packages (from transformers) (0.21.0)\n",
      "Requirement already satisfied: safetensors>=0.4.1 in /Library/Frameworks/Python.framework/Versions/3.13/lib/python3.13/site-packages (from transformers) (0.4.5)\n",
      "Requirement already satisfied: typing-extensions>=4.10.0 in /Library/Frameworks/Python.framework/Versions/3.13/lib/python3.13/site-packages (from torch) (4.12.2)\n",
      "Requirement already satisfied: networkx in /Library/Frameworks/Python.framework/Versions/3.13/lib/python3.13/site-packages (from torch) (3.4.2)\n",
      "Requirement already satisfied: jinja2 in /Library/Frameworks/Python.framework/Versions/3.13/lib/python3.13/site-packages (from torch) (3.1.4)\n",
      "Requirement already satisfied: setuptools in /Library/Frameworks/Python.framework/Versions/3.13/lib/python3.13/site-packages (from torch) (75.3.0)\n",
      "Requirement already satisfied: sympy==1.13.1 in /Library/Frameworks/Python.framework/Versions/3.13/lib/python3.13/site-packages (from torch) (1.13.1)\n",
      "Requirement already satisfied: mpmath<1.4,>=1.1.0 in /Library/Frameworks/Python.framework/Versions/3.13/lib/python3.13/site-packages (from sympy==1.13.1->torch) (1.3.0)\n",
      "Requirement already satisfied: aiohappyeyeballs>=2.3.0 in /Library/Frameworks/Python.framework/Versions/3.13/lib/python3.13/site-packages (from aiohttp->datasets) (2.4.4)\n",
      "Requirement already satisfied: aiosignal>=1.1.2 in /Library/Frameworks/Python.framework/Versions/3.13/lib/python3.13/site-packages (from aiohttp->datasets) (1.3.2)\n",
      "Requirement already satisfied: attrs>=17.3.0 in /Library/Frameworks/Python.framework/Versions/3.13/lib/python3.13/site-packages (from aiohttp->datasets) (24.2.0)\n",
      "Requirement already satisfied: frozenlist>=1.1.1 in /Library/Frameworks/Python.framework/Versions/3.13/lib/python3.13/site-packages (from aiohttp->datasets) (1.5.0)\n",
      "Requirement already satisfied: multidict<7.0,>=4.5 in /Library/Frameworks/Python.framework/Versions/3.13/lib/python3.13/site-packages (from aiohttp->datasets) (6.1.0)\n",
      "Requirement already satisfied: propcache>=0.2.0 in /Library/Frameworks/Python.framework/Versions/3.13/lib/python3.13/site-packages (from aiohttp->datasets) (0.2.1)\n",
      "Requirement already satisfied: yarl<2.0,>=1.17.0 in /Library/Frameworks/Python.framework/Versions/3.13/lib/python3.13/site-packages (from aiohttp->datasets) (1.18.3)\n",
      "Requirement already satisfied: charset-normalizer<4,>=2 in /Library/Frameworks/Python.framework/Versions/3.13/lib/python3.13/site-packages (from requests>=2.32.2->datasets) (3.4.0)\n",
      "Requirement already satisfied: idna<4,>=2.5 in /Library/Frameworks/Python.framework/Versions/3.13/lib/python3.13/site-packages (from requests>=2.32.2->datasets) (3.10)\n",
      "Requirement already satisfied: urllib3<3,>=1.21.1 in /Library/Frameworks/Python.framework/Versions/3.13/lib/python3.13/site-packages (from requests>=2.32.2->datasets) (2.2.3)\n",
      "Requirement already satisfied: certifi>=2017.4.17 in /Library/Frameworks/Python.framework/Versions/3.13/lib/python3.13/site-packages (from requests>=2.32.2->datasets) (2025.1.31)\n",
      "Requirement already satisfied: MarkupSafe>=2.0 in /Library/Frameworks/Python.framework/Versions/3.13/lib/python3.13/site-packages (from jinja2->torch) (3.0.2)\n",
      "Requirement already satisfied: python-dateutil>=2.8.2 in /Library/Frameworks/Python.framework/Versions/3.13/lib/python3.13/site-packages (from pandas->datasets) (2.9.0.post0)\n",
      "Requirement already satisfied: pytz>=2020.1 in /Library/Frameworks/Python.framework/Versions/3.13/lib/python3.13/site-packages (from pandas->datasets) (2024.2)\n",
      "Requirement already satisfied: tzdata>=2022.7 in /Library/Frameworks/Python.framework/Versions/3.13/lib/python3.13/site-packages (from pandas->datasets) (2024.2)\n",
      "Requirement already satisfied: six>=1.5 in /Library/Frameworks/Python.framework/Versions/3.13/lib/python3.13/site-packages (from python-dateutil>=2.8.2->pandas->datasets) (1.16.0)\n",
      "Note: you may need to restart the kernel to use updated packages.\n"
     ]
    }
   ],
   "source": [
    "pip install datasets transformers torch"
   ]
  },
  {
   "cell_type": "code",
   "execution_count": 2,
   "id": "d286b94a-6f8f-4b99-88f7-433ceccc9c42",
   "metadata": {},
   "outputs": [
    {
     "name": "stdout",
     "output_type": "stream",
     "text": [
      "Requirement already satisfied: jupyterthemes in /Library/Frameworks/Python.framework/Versions/3.13/lib/python3.13/site-packages (0.20.0)\n",
      "Requirement already satisfied: jupyter-core in /Library/Frameworks/Python.framework/Versions/3.13/lib/python3.13/site-packages (from jupyterthemes) (5.7.2)\n",
      "Requirement already satisfied: notebook>=5.6.0 in /Library/Frameworks/Python.framework/Versions/3.13/lib/python3.13/site-packages (from jupyterthemes) (7.2.2)\n",
      "Requirement already satisfied: ipython>=5.4.1 in /Library/Frameworks/Python.framework/Versions/3.13/lib/python3.13/site-packages (from jupyterthemes) (8.29.0)\n",
      "Requirement already satisfied: matplotlib>=1.4.3 in /Library/Frameworks/Python.framework/Versions/3.13/lib/python3.13/site-packages (from jupyterthemes) (3.9.2)\n",
      "Requirement already satisfied: lesscpy>=0.11.2 in /Library/Frameworks/Python.framework/Versions/3.13/lib/python3.13/site-packages (from jupyterthemes) (0.15.1)\n",
      "Requirement already satisfied: decorator in /Library/Frameworks/Python.framework/Versions/3.13/lib/python3.13/site-packages (from ipython>=5.4.1->jupyterthemes) (5.1.1)\n",
      "Requirement already satisfied: jedi>=0.16 in /Library/Frameworks/Python.framework/Versions/3.13/lib/python3.13/site-packages (from ipython>=5.4.1->jupyterthemes) (0.19.1)\n",
      "Requirement already satisfied: matplotlib-inline in /Library/Frameworks/Python.framework/Versions/3.13/lib/python3.13/site-packages (from ipython>=5.4.1->jupyterthemes) (0.1.7)\n",
      "Requirement already satisfied: prompt-toolkit<3.1.0,>=3.0.41 in /Library/Frameworks/Python.framework/Versions/3.13/lib/python3.13/site-packages (from ipython>=5.4.1->jupyterthemes) (3.0.48)\n",
      "Requirement already satisfied: pygments>=2.4.0 in /Library/Frameworks/Python.framework/Versions/3.13/lib/python3.13/site-packages (from ipython>=5.4.1->jupyterthemes) (2.18.0)\n",
      "Requirement already satisfied: stack-data in /Library/Frameworks/Python.framework/Versions/3.13/lib/python3.13/site-packages (from ipython>=5.4.1->jupyterthemes) (0.6.3)\n",
      "Requirement already satisfied: traitlets>=5.13.0 in /Library/Frameworks/Python.framework/Versions/3.13/lib/python3.13/site-packages (from ipython>=5.4.1->jupyterthemes) (5.14.3)\n",
      "Requirement already satisfied: pexpect>4.3 in /Library/Frameworks/Python.framework/Versions/3.13/lib/python3.13/site-packages (from ipython>=5.4.1->jupyterthemes) (4.9.0)\n",
      "Requirement already satisfied: ply in /Library/Frameworks/Python.framework/Versions/3.13/lib/python3.13/site-packages (from lesscpy>=0.11.2->jupyterthemes) (3.11)\n",
      "Requirement already satisfied: contourpy>=1.0.1 in /Library/Frameworks/Python.framework/Versions/3.13/lib/python3.13/site-packages (from matplotlib>=1.4.3->jupyterthemes) (1.3.1)\n",
      "Requirement already satisfied: cycler>=0.10 in /Library/Frameworks/Python.framework/Versions/3.13/lib/python3.13/site-packages (from matplotlib>=1.4.3->jupyterthemes) (0.12.1)\n",
      "Requirement already satisfied: fonttools>=4.22.0 in /Library/Frameworks/Python.framework/Versions/3.13/lib/python3.13/site-packages (from matplotlib>=1.4.3->jupyterthemes) (4.55.0)\n",
      "Requirement already satisfied: kiwisolver>=1.3.1 in /Library/Frameworks/Python.framework/Versions/3.13/lib/python3.13/site-packages (from matplotlib>=1.4.3->jupyterthemes) (1.4.7)\n",
      "Requirement already satisfied: numpy>=1.23 in /Library/Frameworks/Python.framework/Versions/3.13/lib/python3.13/site-packages (from matplotlib>=1.4.3->jupyterthemes) (2.1.3)\n",
      "Requirement already satisfied: packaging>=20.0 in /Library/Frameworks/Python.framework/Versions/3.13/lib/python3.13/site-packages (from matplotlib>=1.4.3->jupyterthemes) (24.1)\n",
      "Requirement already satisfied: pillow>=8 in /Library/Frameworks/Python.framework/Versions/3.13/lib/python3.13/site-packages (from matplotlib>=1.4.3->jupyterthemes) (11.0.0)\n",
      "Requirement already satisfied: pyparsing>=2.3.1 in /Library/Frameworks/Python.framework/Versions/3.13/lib/python3.13/site-packages (from matplotlib>=1.4.3->jupyterthemes) (3.2.0)\n",
      "Requirement already satisfied: python-dateutil>=2.7 in /Library/Frameworks/Python.framework/Versions/3.13/lib/python3.13/site-packages (from matplotlib>=1.4.3->jupyterthemes) (2.9.0.post0)\n",
      "Requirement already satisfied: jupyter-server<3,>=2.4.0 in /Library/Frameworks/Python.framework/Versions/3.13/lib/python3.13/site-packages (from notebook>=5.6.0->jupyterthemes) (2.14.2)\n",
      "Requirement already satisfied: jupyterlab-server<3,>=2.27.1 in /Library/Frameworks/Python.framework/Versions/3.13/lib/python3.13/site-packages (from notebook>=5.6.0->jupyterthemes) (2.27.3)\n",
      "Requirement already satisfied: jupyterlab<4.3,>=4.2.0 in /Library/Frameworks/Python.framework/Versions/3.13/lib/python3.13/site-packages (from notebook>=5.6.0->jupyterthemes) (4.2.5)\n",
      "Requirement already satisfied: notebook-shim<0.3,>=0.2 in /Library/Frameworks/Python.framework/Versions/3.13/lib/python3.13/site-packages (from notebook>=5.6.0->jupyterthemes) (0.2.4)\n",
      "Requirement already satisfied: tornado>=6.2.0 in /Library/Frameworks/Python.framework/Versions/3.13/lib/python3.13/site-packages (from notebook>=5.6.0->jupyterthemes) (6.4.1)\n",
      "Requirement already satisfied: platformdirs>=2.5 in /Library/Frameworks/Python.framework/Versions/3.13/lib/python3.13/site-packages (from jupyter-core->jupyterthemes) (4.3.6)\n",
      "Requirement already satisfied: parso<0.9.0,>=0.8.3 in /Library/Frameworks/Python.framework/Versions/3.13/lib/python3.13/site-packages (from jedi>=0.16->ipython>=5.4.1->jupyterthemes) (0.8.4)\n",
      "Requirement already satisfied: anyio>=3.1.0 in /Library/Frameworks/Python.framework/Versions/3.13/lib/python3.13/site-packages (from jupyter-server<3,>=2.4.0->notebook>=5.6.0->jupyterthemes) (4.6.2.post1)\n",
      "Requirement already satisfied: argon2-cffi>=21.1 in /Library/Frameworks/Python.framework/Versions/3.13/lib/python3.13/site-packages (from jupyter-server<3,>=2.4.0->notebook>=5.6.0->jupyterthemes) (23.1.0)\n",
      "Requirement already satisfied: jinja2>=3.0.3 in /Library/Frameworks/Python.framework/Versions/3.13/lib/python3.13/site-packages (from jupyter-server<3,>=2.4.0->notebook>=5.6.0->jupyterthemes) (3.1.4)\n",
      "Requirement already satisfied: jupyter-client>=7.4.4 in /Library/Frameworks/Python.framework/Versions/3.13/lib/python3.13/site-packages (from jupyter-server<3,>=2.4.0->notebook>=5.6.0->jupyterthemes) (8.6.3)\n",
      "Requirement already satisfied: jupyter-events>=0.9.0 in /Library/Frameworks/Python.framework/Versions/3.13/lib/python3.13/site-packages (from jupyter-server<3,>=2.4.0->notebook>=5.6.0->jupyterthemes) (0.10.0)\n",
      "Requirement already satisfied: jupyter-server-terminals>=0.4.4 in /Library/Frameworks/Python.framework/Versions/3.13/lib/python3.13/site-packages (from jupyter-server<3,>=2.4.0->notebook>=5.6.0->jupyterthemes) (0.5.3)\n",
      "Requirement already satisfied: nbconvert>=6.4.4 in /Library/Frameworks/Python.framework/Versions/3.13/lib/python3.13/site-packages (from jupyter-server<3,>=2.4.0->notebook>=5.6.0->jupyterthemes) (7.16.4)\n",
      "Requirement already satisfied: nbformat>=5.3.0 in /Library/Frameworks/Python.framework/Versions/3.13/lib/python3.13/site-packages (from jupyter-server<3,>=2.4.0->notebook>=5.6.0->jupyterthemes) (5.10.4)\n",
      "Requirement already satisfied: overrides>=5.0 in /Library/Frameworks/Python.framework/Versions/3.13/lib/python3.13/site-packages (from jupyter-server<3,>=2.4.0->notebook>=5.6.0->jupyterthemes) (7.7.0)\n",
      "Requirement already satisfied: prometheus-client>=0.9 in /Library/Frameworks/Python.framework/Versions/3.13/lib/python3.13/site-packages (from jupyter-server<3,>=2.4.0->notebook>=5.6.0->jupyterthemes) (0.21.0)\n",
      "Requirement already satisfied: pyzmq>=24 in /Library/Frameworks/Python.framework/Versions/3.13/lib/python3.13/site-packages (from jupyter-server<3,>=2.4.0->notebook>=5.6.0->jupyterthemes) (26.2.0)\n",
      "Requirement already satisfied: send2trash>=1.8.2 in /Library/Frameworks/Python.framework/Versions/3.13/lib/python3.13/site-packages (from jupyter-server<3,>=2.4.0->notebook>=5.6.0->jupyterthemes) (1.8.3)\n",
      "Requirement already satisfied: terminado>=0.8.3 in /Library/Frameworks/Python.framework/Versions/3.13/lib/python3.13/site-packages (from jupyter-server<3,>=2.4.0->notebook>=5.6.0->jupyterthemes) (0.18.1)\n",
      "Requirement already satisfied: websocket-client>=1.7 in /Library/Frameworks/Python.framework/Versions/3.13/lib/python3.13/site-packages (from jupyter-server<3,>=2.4.0->notebook>=5.6.0->jupyterthemes) (1.8.0)\n",
      "Requirement already satisfied: async-lru>=1.0.0 in /Library/Frameworks/Python.framework/Versions/3.13/lib/python3.13/site-packages (from jupyterlab<4.3,>=4.2.0->notebook>=5.6.0->jupyterthemes) (2.0.4)\n",
      "Requirement already satisfied: httpx>=0.25.0 in /Library/Frameworks/Python.framework/Versions/3.13/lib/python3.13/site-packages (from jupyterlab<4.3,>=4.2.0->notebook>=5.6.0->jupyterthemes) (0.27.2)\n",
      "Requirement already satisfied: ipykernel>=6.5.0 in /Library/Frameworks/Python.framework/Versions/3.13/lib/python3.13/site-packages (from jupyterlab<4.3,>=4.2.0->notebook>=5.6.0->jupyterthemes) (6.29.5)\n",
      "Requirement already satisfied: jupyter-lsp>=2.0.0 in /Library/Frameworks/Python.framework/Versions/3.13/lib/python3.13/site-packages (from jupyterlab<4.3,>=4.2.0->notebook>=5.6.0->jupyterthemes) (2.2.5)\n",
      "Requirement already satisfied: setuptools>=40.1.0 in /Library/Frameworks/Python.framework/Versions/3.13/lib/python3.13/site-packages (from jupyterlab<4.3,>=4.2.0->notebook>=5.6.0->jupyterthemes) (75.3.0)\n",
      "Requirement already satisfied: babel>=2.10 in /Library/Frameworks/Python.framework/Versions/3.13/lib/python3.13/site-packages (from jupyterlab-server<3,>=2.27.1->notebook>=5.6.0->jupyterthemes) (2.16.0)\n",
      "Requirement already satisfied: json5>=0.9.0 in /Library/Frameworks/Python.framework/Versions/3.13/lib/python3.13/site-packages (from jupyterlab-server<3,>=2.27.1->notebook>=5.6.0->jupyterthemes) (0.9.25)\n",
      "Requirement already satisfied: jsonschema>=4.18.0 in /Library/Frameworks/Python.framework/Versions/3.13/lib/python3.13/site-packages (from jupyterlab-server<3,>=2.27.1->notebook>=5.6.0->jupyterthemes) (4.23.0)\n",
      "Requirement already satisfied: requests>=2.31 in /Library/Frameworks/Python.framework/Versions/3.13/lib/python3.13/site-packages (from jupyterlab-server<3,>=2.27.1->notebook>=5.6.0->jupyterthemes) (2.32.3)\n",
      "Requirement already satisfied: ptyprocess>=0.5 in /Library/Frameworks/Python.framework/Versions/3.13/lib/python3.13/site-packages (from pexpect>4.3->ipython>=5.4.1->jupyterthemes) (0.7.0)\n",
      "Requirement already satisfied: wcwidth in /Library/Frameworks/Python.framework/Versions/3.13/lib/python3.13/site-packages (from prompt-toolkit<3.1.0,>=3.0.41->ipython>=5.4.1->jupyterthemes) (0.2.13)\n",
      "Requirement already satisfied: six>=1.5 in /Library/Frameworks/Python.framework/Versions/3.13/lib/python3.13/site-packages (from python-dateutil>=2.7->matplotlib>=1.4.3->jupyterthemes) (1.16.0)\n",
      "Requirement already satisfied: executing>=1.2.0 in /Library/Frameworks/Python.framework/Versions/3.13/lib/python3.13/site-packages (from stack-data->ipython>=5.4.1->jupyterthemes) (2.1.0)\n",
      "Requirement already satisfied: asttokens>=2.1.0 in /Library/Frameworks/Python.framework/Versions/3.13/lib/python3.13/site-packages (from stack-data->ipython>=5.4.1->jupyterthemes) (2.4.1)\n",
      "Requirement already satisfied: pure-eval in /Library/Frameworks/Python.framework/Versions/3.13/lib/python3.13/site-packages (from stack-data->ipython>=5.4.1->jupyterthemes) (0.2.3)\n",
      "Requirement already satisfied: idna>=2.8 in /Library/Frameworks/Python.framework/Versions/3.13/lib/python3.13/site-packages (from anyio>=3.1.0->jupyter-server<3,>=2.4.0->notebook>=5.6.0->jupyterthemes) (3.10)\n",
      "Requirement already satisfied: sniffio>=1.1 in /Library/Frameworks/Python.framework/Versions/3.13/lib/python3.13/site-packages (from anyio>=3.1.0->jupyter-server<3,>=2.4.0->notebook>=5.6.0->jupyterthemes) (1.3.1)\n",
      "Requirement already satisfied: argon2-cffi-bindings in /Library/Frameworks/Python.framework/Versions/3.13/lib/python3.13/site-packages (from argon2-cffi>=21.1->jupyter-server<3,>=2.4.0->notebook>=5.6.0->jupyterthemes) (21.2.0)\n",
      "Requirement already satisfied: certifi in /Library/Frameworks/Python.framework/Versions/3.13/lib/python3.13/site-packages (from httpx>=0.25.0->jupyterlab<4.3,>=4.2.0->notebook>=5.6.0->jupyterthemes) (2025.1.31)\n",
      "Requirement already satisfied: httpcore==1.* in /Library/Frameworks/Python.framework/Versions/3.13/lib/python3.13/site-packages (from httpx>=0.25.0->jupyterlab<4.3,>=4.2.0->notebook>=5.6.0->jupyterthemes) (1.0.6)\n",
      "Requirement already satisfied: h11<0.15,>=0.13 in /Library/Frameworks/Python.framework/Versions/3.13/lib/python3.13/site-packages (from httpcore==1.*->httpx>=0.25.0->jupyterlab<4.3,>=4.2.0->notebook>=5.6.0->jupyterthemes) (0.14.0)\n",
      "Requirement already satisfied: appnope in /Library/Frameworks/Python.framework/Versions/3.13/lib/python3.13/site-packages (from ipykernel>=6.5.0->jupyterlab<4.3,>=4.2.0->notebook>=5.6.0->jupyterthemes) (0.1.4)\n",
      "Requirement already satisfied: comm>=0.1.1 in /Library/Frameworks/Python.framework/Versions/3.13/lib/python3.13/site-packages (from ipykernel>=6.5.0->jupyterlab<4.3,>=4.2.0->notebook>=5.6.0->jupyterthemes) (0.2.2)\n",
      "Requirement already satisfied: debugpy>=1.6.5 in /Library/Frameworks/Python.framework/Versions/3.13/lib/python3.13/site-packages (from ipykernel>=6.5.0->jupyterlab<4.3,>=4.2.0->notebook>=5.6.0->jupyterthemes) (1.8.7)\n",
      "Requirement already satisfied: nest-asyncio in /Library/Frameworks/Python.framework/Versions/3.13/lib/python3.13/site-packages (from ipykernel>=6.5.0->jupyterlab<4.3,>=4.2.0->notebook>=5.6.0->jupyterthemes) (1.6.0)\n",
      "Requirement already satisfied: psutil in /Library/Frameworks/Python.framework/Versions/3.13/lib/python3.13/site-packages (from ipykernel>=6.5.0->jupyterlab<4.3,>=4.2.0->notebook>=5.6.0->jupyterthemes) (6.1.0)\n",
      "Requirement already satisfied: MarkupSafe>=2.0 in /Library/Frameworks/Python.framework/Versions/3.13/lib/python3.13/site-packages (from jinja2>=3.0.3->jupyter-server<3,>=2.4.0->notebook>=5.6.0->jupyterthemes) (3.0.2)\n",
      "Requirement already satisfied: attrs>=22.2.0 in /Library/Frameworks/Python.framework/Versions/3.13/lib/python3.13/site-packages (from jsonschema>=4.18.0->jupyterlab-server<3,>=2.27.1->notebook>=5.6.0->jupyterthemes) (24.2.0)\n",
      "Requirement already satisfied: jsonschema-specifications>=2023.03.6 in /Library/Frameworks/Python.framework/Versions/3.13/lib/python3.13/site-packages (from jsonschema>=4.18.0->jupyterlab-server<3,>=2.27.1->notebook>=5.6.0->jupyterthemes) (2024.10.1)\n",
      "Requirement already satisfied: referencing>=0.28.4 in /Library/Frameworks/Python.framework/Versions/3.13/lib/python3.13/site-packages (from jsonschema>=4.18.0->jupyterlab-server<3,>=2.27.1->notebook>=5.6.0->jupyterthemes) (0.35.1)\n",
      "Requirement already satisfied: rpds-py>=0.7.1 in /Library/Frameworks/Python.framework/Versions/3.13/lib/python3.13/site-packages (from jsonschema>=4.18.0->jupyterlab-server<3,>=2.27.1->notebook>=5.6.0->jupyterthemes) (0.21.0)\n",
      "Requirement already satisfied: python-json-logger>=2.0.4 in /Library/Frameworks/Python.framework/Versions/3.13/lib/python3.13/site-packages (from jupyter-events>=0.9.0->jupyter-server<3,>=2.4.0->notebook>=5.6.0->jupyterthemes) (2.0.7)\n",
      "Requirement already satisfied: pyyaml>=5.3 in /Library/Frameworks/Python.framework/Versions/3.13/lib/python3.13/site-packages (from jupyter-events>=0.9.0->jupyter-server<3,>=2.4.0->notebook>=5.6.0->jupyterthemes) (6.0.2)\n",
      "Requirement already satisfied: rfc3339-validator in /Library/Frameworks/Python.framework/Versions/3.13/lib/python3.13/site-packages (from jupyter-events>=0.9.0->jupyter-server<3,>=2.4.0->notebook>=5.6.0->jupyterthemes) (0.1.4)\n",
      "Requirement already satisfied: rfc3986-validator>=0.1.1 in /Library/Frameworks/Python.framework/Versions/3.13/lib/python3.13/site-packages (from jupyter-events>=0.9.0->jupyter-server<3,>=2.4.0->notebook>=5.6.0->jupyterthemes) (0.1.1)\n",
      "Requirement already satisfied: beautifulsoup4 in /Library/Frameworks/Python.framework/Versions/3.13/lib/python3.13/site-packages (from nbconvert>=6.4.4->jupyter-server<3,>=2.4.0->notebook>=5.6.0->jupyterthemes) (4.12.3)\n",
      "Requirement already satisfied: bleach!=5.0.0 in /Library/Frameworks/Python.framework/Versions/3.13/lib/python3.13/site-packages (from nbconvert>=6.4.4->jupyter-server<3,>=2.4.0->notebook>=5.6.0->jupyterthemes) (6.2.0)\n",
      "Requirement already satisfied: defusedxml in /Library/Frameworks/Python.framework/Versions/3.13/lib/python3.13/site-packages (from nbconvert>=6.4.4->jupyter-server<3,>=2.4.0->notebook>=5.6.0->jupyterthemes) (0.7.1)\n",
      "Requirement already satisfied: jupyterlab-pygments in /Library/Frameworks/Python.framework/Versions/3.13/lib/python3.13/site-packages (from nbconvert>=6.4.4->jupyter-server<3,>=2.4.0->notebook>=5.6.0->jupyterthemes) (0.3.0)\n",
      "Requirement already satisfied: mistune<4,>=2.0.3 in /Library/Frameworks/Python.framework/Versions/3.13/lib/python3.13/site-packages (from nbconvert>=6.4.4->jupyter-server<3,>=2.4.0->notebook>=5.6.0->jupyterthemes) (3.0.2)\n",
      "Requirement already satisfied: nbclient>=0.5.0 in /Library/Frameworks/Python.framework/Versions/3.13/lib/python3.13/site-packages (from nbconvert>=6.4.4->jupyter-server<3,>=2.4.0->notebook>=5.6.0->jupyterthemes) (0.10.0)\n",
      "Requirement already satisfied: pandocfilters>=1.4.1 in /Library/Frameworks/Python.framework/Versions/3.13/lib/python3.13/site-packages (from nbconvert>=6.4.4->jupyter-server<3,>=2.4.0->notebook>=5.6.0->jupyterthemes) (1.5.1)\n",
      "Requirement already satisfied: tinycss2 in /Library/Frameworks/Python.framework/Versions/3.13/lib/python3.13/site-packages (from nbconvert>=6.4.4->jupyter-server<3,>=2.4.0->notebook>=5.6.0->jupyterthemes) (1.4.0)\n",
      "Requirement already satisfied: fastjsonschema>=2.15 in /Library/Frameworks/Python.framework/Versions/3.13/lib/python3.13/site-packages (from nbformat>=5.3.0->jupyter-server<3,>=2.4.0->notebook>=5.6.0->jupyterthemes) (2.20.0)\n",
      "Requirement already satisfied: charset-normalizer<4,>=2 in /Library/Frameworks/Python.framework/Versions/3.13/lib/python3.13/site-packages (from requests>=2.31->jupyterlab-server<3,>=2.27.1->notebook>=5.6.0->jupyterthemes) (3.4.0)\n",
      "Requirement already satisfied: urllib3<3,>=1.21.1 in /Library/Frameworks/Python.framework/Versions/3.13/lib/python3.13/site-packages (from requests>=2.31->jupyterlab-server<3,>=2.27.1->notebook>=5.6.0->jupyterthemes) (2.2.3)\n",
      "Requirement already satisfied: webencodings in /Library/Frameworks/Python.framework/Versions/3.13/lib/python3.13/site-packages (from bleach!=5.0.0->nbconvert>=6.4.4->jupyter-server<3,>=2.4.0->notebook>=5.6.0->jupyterthemes) (0.5.1)\n",
      "Requirement already satisfied: fqdn in /Library/Frameworks/Python.framework/Versions/3.13/lib/python3.13/site-packages (from jsonschema[format-nongpl]>=4.18.0->jupyter-events>=0.9.0->jupyter-server<3,>=2.4.0->notebook>=5.6.0->jupyterthemes) (1.5.1)\n",
      "Requirement already satisfied: isoduration in /Library/Frameworks/Python.framework/Versions/3.13/lib/python3.13/site-packages (from jsonschema[format-nongpl]>=4.18.0->jupyter-events>=0.9.0->jupyter-server<3,>=2.4.0->notebook>=5.6.0->jupyterthemes) (20.11.0)\n",
      "Requirement already satisfied: jsonpointer>1.13 in /Library/Frameworks/Python.framework/Versions/3.13/lib/python3.13/site-packages (from jsonschema[format-nongpl]>=4.18.0->jupyter-events>=0.9.0->jupyter-server<3,>=2.4.0->notebook>=5.6.0->jupyterthemes) (3.0.0)\n",
      "Requirement already satisfied: uri-template in /Library/Frameworks/Python.framework/Versions/3.13/lib/python3.13/site-packages (from jsonschema[format-nongpl]>=4.18.0->jupyter-events>=0.9.0->jupyter-server<3,>=2.4.0->notebook>=5.6.0->jupyterthemes) (1.3.0)\n",
      "Requirement already satisfied: webcolors>=24.6.0 in /Library/Frameworks/Python.framework/Versions/3.13/lib/python3.13/site-packages (from jsonschema[format-nongpl]>=4.18.0->jupyter-events>=0.9.0->jupyter-server<3,>=2.4.0->notebook>=5.6.0->jupyterthemes) (24.8.0)\n",
      "Requirement already satisfied: cffi>=1.0.1 in /Library/Frameworks/Python.framework/Versions/3.13/lib/python3.13/site-packages (from argon2-cffi-bindings->argon2-cffi>=21.1->jupyter-server<3,>=2.4.0->notebook>=5.6.0->jupyterthemes) (1.17.1)\n",
      "Requirement already satisfied: soupsieve>1.2 in /Library/Frameworks/Python.framework/Versions/3.13/lib/python3.13/site-packages (from beautifulsoup4->nbconvert>=6.4.4->jupyter-server<3,>=2.4.0->notebook>=5.6.0->jupyterthemes) (2.6)\n",
      "Requirement already satisfied: pycparser in /Library/Frameworks/Python.framework/Versions/3.13/lib/python3.13/site-packages (from cffi>=1.0.1->argon2-cffi-bindings->argon2-cffi>=21.1->jupyter-server<3,>=2.4.0->notebook>=5.6.0->jupyterthemes) (2.22)\n",
      "Requirement already satisfied: arrow>=0.15.0 in /Library/Frameworks/Python.framework/Versions/3.13/lib/python3.13/site-packages (from isoduration->jsonschema[format-nongpl]>=4.18.0->jupyter-events>=0.9.0->jupyter-server<3,>=2.4.0->notebook>=5.6.0->jupyterthemes) (1.3.0)\n",
      "Requirement already satisfied: types-python-dateutil>=2.8.10 in /Library/Frameworks/Python.framework/Versions/3.13/lib/python3.13/site-packages (from arrow>=0.15.0->isoduration->jsonschema[format-nongpl]>=4.18.0->jupyter-events>=0.9.0->jupyter-server<3,>=2.4.0->notebook>=5.6.0->jupyterthemes) (2.9.0.20241003)\n",
      "Note: you may need to restart the kernel to use updated packages.\n"
     ]
    }
   ],
   "source": [
    "pip install jupyterthemes"
   ]
  },
  {
   "cell_type": "code",
   "execution_count": 3,
   "id": "e718f1ad-52c7-4d79-8cf9-056b0f7bc76b",
   "metadata": {},
   "outputs": [
    {
     "name": "stdout",
     "output_type": "stream",
     "text": [
      "usage: jt [-h] [-l] [-t THEME] [-f MONOFONT] [-fs MONOSIZE] [-nf NBFONT]\n",
      "          [-nfs NBFONTSIZE] [-tf TCFONT] [-tfs TCFONTSIZE] [-dfs DFFONTSIZE]\n",
      "          [-ofs OUTFONTSIZE] [-mathfs MATHFONTSIZE] [-m MARGINS]\n",
      "          [-cursw CURSORWIDTH] [-cursc CURSORCOLOR] [-cellw CELLWIDTH]\n",
      "          [-lineh LINEHEIGHT] [-altp] [-altmd] [-altout] [-P] [-T] [-N] [-kl]\n",
      "          [-vim] [-r] [-dfonts]\n",
      "jt: error: unrecognized arguments: -ynb\n"
     ]
    }
   ],
   "source": [
    "!jt -t monokai -f fira -fs 12 -tfs 12 -cellw 90% -lineh 150 -altp -altmd -ynb"
   ]
  },
  {
   "cell_type": "code",
   "execution_count": 4,
   "id": "7fcea6ed-fcd4-4736-a363-7527cc93bb74",
   "metadata": {},
   "outputs": [],
   "source": [
    "import re\n",
    "import torch\n",
    "from datasets import load_dataset, load_from_disk, DatasetDict\n",
    "from torch.utils.data import DataLoader\n",
    "from transformers import AutoTokenizer\n",
    "import torch.nn as nn\n",
    "import torch.optim as optim\n",
    "import matplotlib.pyplot as plt"
   ]
  },
  {
   "cell_type": "markdown",
   "id": "24415be5-1b4c-4996-8895-06f7e4a5b4bf",
   "metadata": {},
   "source": [
    "### DATA LOADING: Loaded the \"rajpurkar/squad_v2\" dataset"
   ]
  },
  {
   "cell_type": "code",
   "execution_count": 5,
   "id": "70ef7351-971d-458e-9159-9f0255963937",
   "metadata": {},
   "outputs": [
    {
     "name": "stdout",
     "output_type": "stream",
     "text": [
      "DatasetDict({\n",
      "    train: Dataset({\n",
      "        features: ['id', 'title', 'context', 'question', 'answers'],\n",
      "        num_rows: 130319\n",
      "    })\n",
      "    validation: Dataset({\n",
      "        features: ['id', 'title', 'context', 'question', 'answers'],\n",
      "        num_rows: 11873\n",
      "    })\n",
      "})\n"
     ]
    }
   ],
   "source": [
    "raw_dataset = load_dataset(\"rajpurkar/squad_v2\")\n",
    "print(raw_dataset)"
   ]
  },
  {
   "cell_type": "code",
   "execution_count": 6,
   "id": "575a31f1-0b8f-4a0d-9d30-522e6a24c54e",
   "metadata": {},
   "outputs": [
    {
     "name": "stdout",
     "output_type": "stream",
     "text": [
      "Train Dataset is Dataset({\n",
      "    features: ['id', 'title', 'context', 'question', 'answers'],\n",
      "    num_rows: 130319\n",
      "})\n",
      "\n",
      "Validation Dataset is Dataset({\n",
      "    features: ['id', 'title', 'context', 'question', 'answers'],\n",
      "    num_rows: 11873\n",
      "})\n",
      "\n"
     ]
    }
   ],
   "source": [
    "train_dataset = raw_dataset[\"train\"]\n",
    "validation_dataset = raw_dataset[\"validation\"]\n",
    "print(f\"Train Dataset is {train_dataset}\\n\")\n",
    "print(f\"Validation Dataset is {validation_dataset}\\n\")"
   ]
  },
  {
   "cell_type": "markdown",
   "id": "756985b8-44ca-486a-ad45-8df24d8f679f",
   "metadata": {},
   "source": [
    "### DATA CLEANING"
   ]
  },
  {
   "cell_type": "code",
   "execution_count": 7,
   "id": "41c2e2ee-e9b0-4630-937c-693390df343d",
   "metadata": {},
   "outputs": [
    {
     "name": "stderr",
     "output_type": "stream",
     "text": [
      "<>:3: SyntaxWarning: invalid escape sequence '\\s'\n",
      "<>:3: SyntaxWarning: invalid escape sequence '\\s'\n",
      "/var/folders/_f/py9grhcj2c5f9506sl78n_1w0000gn/T/ipykernel_9887/2965519770.py:3: SyntaxWarning: invalid escape sequence '\\s'\n",
      "  text = re.sub('\\s+', ' ', text)\n"
     ]
    }
   ],
   "source": [
    "#Removed unencessary whitespace to ensure uniform formatting using strip function\n",
    "def clean_text(text):\n",
    "  text = re.sub('\\s+', ' ', text)\n",
    "  text = text.strip()\n",
    "  return text"
   ]
  },
  {
   "cell_type": "code",
   "execution_count": 8,
   "id": "41a9eb75-c2be-4a33-8a39-35440a299532",
   "metadata": {},
   "outputs": [],
   "source": [
    "#Normalized the cleaned text and made it consistent for both the context and the question\n",
    "def apply_clean_text(examples):\n",
    "  cleaned_contexts = [clean_text(c) for c in examples['context']]\n",
    "  cleaned_questions = [clean_text(q) for q in examples['question']]\n",
    "  return {\n",
    "      \"context\": cleaned_contexts,\n",
    "      \"question\": cleaned_questions\n",
    "  }\n"
   ]
  },
  {
   "cell_type": "code",
   "execution_count": 9,
   "id": "55d893ad-58b5-4e44-abb3-81bf3c652ba4",
   "metadata": {},
   "outputs": [],
   "source": [
    "#Mapping the clean dataset to train, test and validation dataset\n",
    "train_dataset = train_dataset.map(\n",
    "    apply_clean_text,\n",
    "    batched = True, #process the dataset in batches\n",
    "    num_proc = 4 #spiltted the map operation accross CPU 4 cores to speed up the mapping operation\n",
    ")\n",
    "validation_dataset = validation_dataset.map(\n",
    "    apply_clean_text,\n",
    "    batched = True,\n",
    "    num_proc = 4\n",
    "\n",
    ")"
   ]
  },
  {
   "cell_type": "code",
   "execution_count": 10,
   "id": "1c9113e3-eb02-4eda-8c21-8edfef69c4d1",
   "metadata": {},
   "outputs": [],
   "source": [
    "#loaded the tokenizer compatible with Bert(Bidirectional Encoded Representations from Transformers)\n",
    "tokenizer = AutoTokenizer.from_pretrained(\"bert-base-cased\")\n"
   ]
  },
  {
   "cell_type": "code",
   "execution_count": 11,
   "id": "e689d77b-9fe1-4428-89e9-ede0981cd3a7",
   "metadata": {},
   "outputs": [],
   "source": [
    "#Pre-processing a batch of training examples for question answeing model\n",
    "def preprocess_training_examples(examples):\n",
    "  # Argument = examples (dict): A batch of examples containing:\n",
    "  # 1: \"question\": A list of questions (strings).\n",
    "  # 2: \"context\": A list of contexts (strings).\n",
    "  # 3: \"answers\": A list of dictionaries with the keys:\n",
    "  # 4: \"text\": The actual answer text(s)\n",
    "\n",
    "  #Tokenzied the question and context\n",
    "  tokenized = tokenizer(\n",
    "      examples[\"question\"], #tokenized the questions\n",
    "      examples[\"context\"],  #tokenized the context\n",
    "      truncation = True,   #cut of input sequence(question+context) if it exceeds the max_length\n",
    "      stride = 128,  #overlap between chunks when splitting long context\n",
    "      return_overflowing_tokens = True, #return token split into multiple chunks\n",
    "      return_offsets_mapping = True, #return character to token position mapping\n",
    "      padding = \"max_length\" #all sequences are padded to the model's max_length\n",
    "  )\n",
    "  offset_mapping = tokenized[\"offset_mapping\"]\n",
    "  sample_map = tokenized.pop(\"overflow_to_sample_mapping\")\n",
    "  #stored the start and end token position of the answers in a list\n",
    "  start_positions = []\n",
    "  end_positions = []\n",
    "  #Iterate over each chunk in tokenized batch size\n",
    "  for i, offsets in enumerate(offset_mapping):\n",
    "    sample_idx = sample_map[i] #index of the chunk\n",
    "    answers = examples[\"answers\"][sample_idx] #retrieving answes\n",
    "    #if no answers are provided the start and end position is set to be zero\n",
    "    if len(answers[\"text\"]) == 0:\n",
    "      start_positions.append(0)\n",
    "      end_positions.append(0)\n",
    "      continue\n",
    "    #Extracting first answer text and character start position\n",
    "    answer_text = answers[\"text\"][0]\n",
    "    answer_start_char = answers[\"answer_start\"][0]\n",
    "    answer_end_char = answer_start_char + len(answer_text)\n",
    "    #Initializing the value of start and end token index\n",
    "    start_token_idx = 0\n",
    "    end_token_idx = 0\n",
    "    #Iterate through token indices to find start and end token indices\n",
    "    for idx, (start,end) in enumerate(offsets):\n",
    "      if start <= answer_start_char < end: #to check if the start of the answer fell within the token\n",
    "        start_token_idx = idx\n",
    "      if start < answer_end_char <= end: #to check if the end of the answer fell within the token\n",
    "        end_token_idx = idx\n",
    "        break #exit the loop if it has been found\n",
    "    #append identified token indices to the given list\n",
    "    start_positions.append(start_token_idx)\n",
    "    end_positions.append(end_token_idx)\n",
    "  #add start and end positions to the tokenized dictionary\n",
    "  tokenized[\"start_positions\"] = start_positions\n",
    "  tokenized[\"end_positions\"] = end_positions\n",
    "  return tokenized #return tokenized input within the given position of the answer"
   ]
  },
  {
   "cell_type": "code",
   "execution_count": 12,
   "id": "5b8ab76d-65d5-4d39-a0e3-dcb88eb837ca",
   "metadata": {},
   "outputs": [],
   "source": [
    "#Tokenized and Preprocessed the training dataset and removed the original column to avoid redundancy\n",
    "tokenized_train = train_dataset.map(\n",
    "    preprocess_training_examples,\n",
    "    batched = True,\n",
    "    remove_columns = train_dataset.column_names\n",
    ")\n",
    "#Tokenized and Preprocessed the validation dataset and removed the original column to avoid redundancy\n",
    "\n",
    "tokenized_validation = validation_dataset.map(\n",
    "    preprocess_training_examples,\n",
    "    batched = True,\n",
    "    remove_columns = validation_dataset.column_names\n",
    ")"
   ]
  },
  {
   "cell_type": "markdown",
   "id": "235b196a-d140-44bf-9256-01cf05882434",
   "metadata": {},
   "source": [
    "### Convert Dataset into Tensor Format"
   ]
  },
  {
   "cell_type": "code",
   "execution_count": 13,
   "id": "2e591abc-ba73-4d42-9f85-ae003c798a8f",
   "metadata": {},
   "outputs": [],
   "source": [
    "#Converted the tokenized dataset into Pytorch Sensors after formatting each set to pytorch tensors\n",
    "tokenized_train.set_format(\"torch\", columns = [\"input_ids\", \"attention_mask\", \"start_positions\", \"end_positions\"])\n",
    "tokenized_validation.set_format(\"torch\", columns = [\"input_ids\", \"attention_mask\", \"start_positions\", \"end_positions\"])"
   ]
  },
  {
   "cell_type": "code",
   "execution_count": 14,
   "id": "4be2fb11-5324-461c-801d-2656f4490f2e",
   "metadata": {},
   "outputs": [],
   "source": [
    "#Created a dataloader for tokenized datasets with shuffling at epoch to improve model performance and be as much unbias as possible\n",
    "train_dataloader = DataLoader(tokenized_train, shuffle = True, batch_size = 8)\n",
    "validation_dataloader = DataLoader(tokenized_validation, shuffle = True, batch_size = 8)"
   ]
  },
  {
   "cell_type": "code",
   "execution_count": 15,
   "id": "ca04ab4a-32e0-45e5-b595-912c98b86805",
   "metadata": {},
   "outputs": [
    {
     "name": "stdout",
     "output_type": "stream",
     "text": [
      "input_ids torch.Size([8, 512])\n",
      "attention_mask torch.Size([8, 512])\n",
      "start_positions torch.Size([8])\n",
      "end_positions torch.Size([8])\n"
     ]
    }
   ],
   "source": [
    "#fetched the first batch from train dataloader and iterated over the batch items(keys and values)\n",
    "sample_batch = next(iter(train_dataloader))\n",
    "for k,v in sample_batch.items():\n",
    "  print(k,v.shape)"
   ]
  },
  {
   "cell_type": "code",
   "execution_count": 16,
   "id": "4092e871-7393-4a3b-baee-726b590a3656",
   "metadata": {},
   "outputs": [
    {
     "data": {
      "application/vnd.jupyter.widget-view+json": {
       "model_id": "0ccf185af0984c46ba854a265000031c",
       "version_major": 2,
       "version_minor": 0
      },
      "text/plain": [
       "Saving the dataset (0/4 shards):   0%|          | 0/130544 [00:00<?, ? examples/s]"
      ]
     },
     "metadata": {},
     "output_type": "display_data"
    },
    {
     "data": {
      "application/vnd.jupyter.widget-view+json": {
       "model_id": "5daa86cdf8e843d29a8dfa4b0e4af529",
       "version_major": 2,
       "version_minor": 0
      },
      "text/plain": [
       "Saving the dataset (0/1 shards):   0%|          | 0/11974 [00:00<?, ? examples/s]"
      ]
     },
     "metadata": {},
     "output_type": "display_data"
    }
   ],
   "source": [
    "#Created a DatasetDict to organize the  preprocess datasets\n",
    "processed_dataset = DatasetDict(\n",
    "    {\n",
    "        \"train\" : tokenized_train, #Assigned the tokenized training dataset to the \"train\" split\n",
    "        \"validation\" : tokenized_validation,  #Assigned the tokenized validation dataset to the \"validation\" split\n",
    "    }\n",
    ")\n",
    "# Saved the processed dataset to disk for using it\n",
    "processed_dataset.save_to_disk(\"processed_squad_v2\")\n"
   ]
  },
  {
   "cell_type": "code",
   "execution_count": 17,
   "id": "c8dfed16-db1b-4756-8ce4-346221694412",
   "metadata": {},
   "outputs": [],
   "source": [
    "reload_processed_dataset = load_from_disk(\"processed_squad_v2\")#reload the preprocessed dataset"
   ]
  },
  {
   "cell_type": "code",
   "execution_count": 18,
   "id": "89c924da-0c9f-4801-a3b3-1a1ce81cb389",
   "metadata": {},
   "outputs": [],
   "source": [
    "def train_one_epoch(model, dataloader, optimizer, criterion, device):\n",
    "  # put model in training mode\n",
    "  model.train()\n",
    "  running_loss = 0.0\n",
    "  for batch in dataloader:\n",
    "    # batch is a dictionary with keys: input_ids, attention_mask, start_positions, end_positions\n",
    "    # Move data to device\n",
    "    input_ids = batch[\"input_ids\"].to(device)\n",
    "    start_positions = batch[\"start_positions\"].to(device)\n",
    "    end_positions = batch[\"end_positions\"].to(device)\n",
    "\n",
    "    # Convert input_ids to float to feed into linear layers\n",
    "    input_ids = input_ids.float()\n",
    "\n",
    "    # Zero out any previously accumulated gradients\n",
    "    optimizer.zero_grad()\n",
    "\n",
    "    # Forward pass\n",
    "    logits = model(input_ids)\n",
    "    batch_size, out_dim = logits.shape\n",
    "\n",
    "    # First half of logits as the distribution over start positions (512)\n",
    "    # Second half as the distribution over end positions (512).\n",
    "    half_dim = out_dim // 2\n",
    "    start_logits = logits[:, :half_dim]  # shape [batch_size, 512]\n",
    "    end_logits = logits[:, half_dim:]    # shape [batch_size, 512]\n",
    "\n",
    "    # Compute loss\n",
    "    # Apply CrossEntropyLoss for start_logits vs. start_positions and for end_logits vs. end_positions. Take sum of the loss.\n",
    "    loss_start = criterion(start_logits, start_positions)\n",
    "    loss_end = criterion(end_logits, end_positions)\n",
    "    loss = loss_start + loss_end\n",
    "\n",
    "    # Backpropagate\n",
    "    loss.backward()\n",
    "\n",
    "    # Update parameters\n",
    "    optimizer.step()\n",
    "\n",
    "    # Accumulate the loss\n",
    "    running_loss += loss.item()\n",
    "\n",
    "  average_loss = running_loss / len(dataloader)\n",
    "  return average_loss\n"
   ]
  },
  {
   "cell_type": "code",
   "execution_count": 19,
   "id": "05cb3d9d-8a85-450f-a51c-fdd4486e2092",
   "metadata": {},
   "outputs": [],
   "source": [
    "def evaluate(model, dataloader, criterion, device):\n",
    "  # set model to evaluation mode\n",
    "  model.eval()\n",
    "  running_loss = 0.0\n",
    "\n",
    "  with torch.no_grad():\n",
    "    for batch in dataloader:\n",
    "      # Move data to device\n",
    "      input_ids = batch[\"input_ids\"].to(device)\n",
    "      start_positions = batch[\"start_positions\"].to(device)\n",
    "      end_positions = batch[\"end_positions\"].to(device)\n",
    "\n",
    "      input_ids = input_ids.float()\n",
    "\n",
    "      # Forward\n",
    "      logits = model(input_ids)\n",
    "      batch_size, out_dim = logits.shape\n",
    "      half_dim = out_dim // 2\n",
    "      start_logits = logits[:, :half_dim]\n",
    "      end_logits = logits[:, half_dim:]\n",
    "\n",
    "      # Compute the loss\n",
    "      loss_start = criterion(start_logits, start_positions)\n",
    "      loss_end = criterion(end_logits, end_positions)\n",
    "      loss = loss_start + loss_end\n",
    "\n",
    "      running_loss += loss.item()\n",
    "\n",
    "  average_loss = running_loss / len(dataloader)\n",
    "  return average_loss\n"
   ]
  },
  {
   "cell_type": "markdown",
   "id": "90a76fc6-df7e-4015-a6c8-923935710750",
   "metadata": {},
   "source": [
    "# Create a Deep Neural Network"
   ]
  },
  {
   "cell_type": "code",
   "execution_count": 20,
   "id": "5e63e5bd-b53b-4df5-a425-03409ab24497",
   "metadata": {},
   "outputs": [
    {
     "name": "stdout",
     "output_type": "stream",
     "text": [
      "Using device: cpu\n"
     ]
    }
   ],
   "source": [
    "# Set device (GPU if available, else CPU)\n",
    "device = torch.device(\"cuda\" if torch.cuda.is_available() else \"cpu\")\n",
    "print(f\"Using device: {device}\")"
   ]
  },
  {
   "cell_type": "code",
   "execution_count": 21,
   "id": "f5bcb1b8-9283-4daf-a693-5d49c155df78",
   "metadata": {},
   "outputs": [],
   "source": [
    "class DeepNeuralNetwork(nn.Module):\n",
    "  def __init__(self, input_dim, d, p, output_dim):\n",
    "    super(DeepNeuralNetwork, self).__init__()\n",
    "\n",
    "    self.layers = nn.ModuleList()\n",
    "\n",
    "    # First hidden layer: input_dim -> p\n",
    "    self.layers.append(nn.Linear(input_dim, p))\n",
    "\n",
    "    # Additional hidden layers: p -> p (repeated d-1 times if d > 1)\n",
    "    for _ in range(d - 1):\n",
    "      self.layers.append(nn.Linear(p, p))\n",
    "\n",
    "    # Final output layer: p -> output_dim\n",
    "    self.output_layer = nn.Linear(p, output_dim)\n",
    "\n",
    "  def forward(self, x):\n",
    "    # Pass through each hidden layer + ReLU\n",
    "    for layer in self.layers:\n",
    "      x = layer(x)\n",
    "      x = torch.relu(x)\n",
    "    # Pass through output layer (no ReLU here, because CrossEntropyLoss is used)\n",
    "    x = self.output_layer(x)\n",
    "    return x"
   ]
  },
  {
   "cell_type": "markdown",
   "id": "a1e0fc65-65f0-4714-8f4d-961131fd01fa",
   "metadata": {},
   "source": [
    "## Optimize Network Depth and Width"
   ]
  },
  {
   "cell_type": "code",
   "execution_count": 22,
   "id": "9f566757-d85c-4619-88f8-07c37d944a15",
   "metadata": {},
   "outputs": [],
   "source": [
    "def deep_network_experiment(d_values, p_values, train_dataloader, test_dataloader, input_dim, num_epochs, learning_rate):\n",
    "  results = {}\n",
    "  criterion = nn.CrossEntropyLoss()\n",
    "  for d in d_values:\n",
    "    for p in p_values:\n",
    "      print(f\"\\nTraining Deep Network with d={d}, p={p}\")\n",
    "      # Instantiate model\n",
    "      model = DeepNeuralNetwork(input_dim=input_dim, d=d, p=p, output_dim=2*input_dim)\n",
    "      # shift model to device\n",
    "      model.to(device)\n",
    "\n",
    "      # Define optimizer\n",
    "      optimizer = optim.Adam(model.parameters(), lr=learning_rate)\n",
    "\n",
    "      # Train the model\n",
    "      for epoch in range(num_epochs):\n",
    "        train_loss = train_one_epoch(model, train_dataloader, optimizer, criterion, device)\n",
    "        print(f\"  [Epoch {epoch+1}/{num_epochs}] Train Loss = {train_loss:.4f}\")\n",
    "\n",
    "      # Evaluate on testing data\n",
    "      test_loss = evaluate(model, test_dataloader, criterion, device)\n",
    "      print(f\"  Test Loss (d={d}, p={p}): {test_loss:.4f}\")\n",
    "\n",
    "      # Store result\n",
    "      results[(d, p)] = test_loss\n",
    "\n",
    "  return results\n"
   ]
  },
  {
   "cell_type": "markdown",
   "id": "e101fa1f-7843-418c-a9b4-c5bffcc77d2b",
   "metadata": {},
   "source": [
    "## Run the Deep Network Experiment"
   ]
  },
  {
   "cell_type": "code",
   "execution_count": 23,
   "id": "3d0032ff-bb8d-45c9-9697-1b827c81d605",
   "metadata": {},
   "outputs": [
    {
     "name": "stdout",
     "output_type": "stream",
     "text": [
      "\n",
      "Training Deep Network with d=2, p=16\n",
      "  [Epoch 1/10] Train Loss = 9.4144\n",
      "  [Epoch 2/10] Train Loss = 8.3111\n",
      "  [Epoch 3/10] Train Loss = 8.3078\n",
      "  [Epoch 4/10] Train Loss = 8.3066\n",
      "  [Epoch 5/10] Train Loss = 8.3056\n",
      "  [Epoch 6/10] Train Loss = 8.3040\n",
      "  [Epoch 7/10] Train Loss = 8.3036\n",
      "  [Epoch 8/10] Train Loss = 8.3032\n",
      "  [Epoch 9/10] Train Loss = 8.3029\n",
      "  [Epoch 10/10] Train Loss = 8.3027\n",
      "  Test Loss (d=2, p=16): 6.8160\n",
      "\n",
      "Training Deep Network with d=2, p=32\n",
      "  [Epoch 1/10] Train Loss = 9.8817\n",
      "  [Epoch 2/10] Train Loss = 8.2990\n",
      "  [Epoch 3/10] Train Loss = 8.2994\n",
      "  [Epoch 4/10] Train Loss = 8.3019\n",
      "  [Epoch 5/10] Train Loss = 8.3034\n",
      "  [Epoch 6/10] Train Loss = 8.3044\n",
      "  [Epoch 7/10] Train Loss = 8.3055\n",
      "  [Epoch 8/10] Train Loss = 8.3065\n",
      "  [Epoch 9/10] Train Loss = 8.3070\n",
      "  [Epoch 10/10] Train Loss = 8.3078\n",
      "  Test Loss (d=2, p=32): 6.8281\n",
      "\n",
      "Training Deep Network with d=2, p=64\n",
      "  [Epoch 1/10] Train Loss = 10.2384\n",
      "  [Epoch 2/10] Train Loss = 8.3151\n",
      "  [Epoch 3/10] Train Loss = 8.3095\n",
      "  [Epoch 4/10] Train Loss = 8.3069\n",
      "  [Epoch 5/10] Train Loss = 8.3060\n",
      "  [Epoch 6/10] Train Loss = 8.3049\n",
      "  [Epoch 7/10] Train Loss = 8.3036\n",
      "  [Epoch 8/10] Train Loss = 8.3029\n",
      "  [Epoch 9/10] Train Loss = 8.3024\n",
      "  [Epoch 10/10] Train Loss = 8.3030\n",
      "  Test Loss (d=2, p=64): 6.8336\n",
      "\n",
      "Training Deep Network with d=3, p=16\n",
      "  [Epoch 1/10] Train Loss = 8.8935\n",
      "  [Epoch 2/10] Train Loss = 8.2483\n",
      "  [Epoch 3/10] Train Loss = 8.2172\n",
      "  [Epoch 4/10] Train Loss = 8.2740\n",
      "  [Epoch 5/10] Train Loss = 8.3018\n",
      "  [Epoch 6/10] Train Loss = 8.3047\n",
      "  [Epoch 7/10] Train Loss = 8.3034\n",
      "  [Epoch 8/10] Train Loss = 8.3023\n",
      "  [Epoch 9/10] Train Loss = 8.3013\n",
      "  [Epoch 10/10] Train Loss = 8.3014\n",
      "  Test Loss (d=3, p=16): 6.8197\n",
      "\n",
      "Training Deep Network with d=3, p=32\n",
      "  [Epoch 1/10] Train Loss = 9.1580\n",
      "  [Epoch 2/10] Train Loss = 8.3013\n",
      "  [Epoch 3/10] Train Loss = 8.3001\n",
      "  [Epoch 4/10] Train Loss = 8.3023\n",
      "  [Epoch 5/10] Train Loss = 8.3035\n",
      "  [Epoch 6/10] Train Loss = 8.3048\n",
      "  [Epoch 7/10] Train Loss = 8.3061\n",
      "  [Epoch 8/10] Train Loss = 8.3069\n",
      "  [Epoch 9/10] Train Loss = 8.3073\n",
      "  [Epoch 10/10] Train Loss = 8.3078\n",
      "  Test Loss (d=3, p=32): 6.8406\n",
      "\n",
      "Training Deep Network with d=3, p=64\n",
      "  [Epoch 1/10] Train Loss = 9.3581\n",
      "  [Epoch 2/10] Train Loss = 8.2992\n",
      "  [Epoch 3/10] Train Loss = 8.3000\n",
      "  [Epoch 4/10] Train Loss = 8.3019\n",
      "  [Epoch 5/10] Train Loss = 8.3036\n",
      "  [Epoch 6/10] Train Loss = 8.3051\n",
      "  [Epoch 7/10] Train Loss = 8.3059\n",
      "  [Epoch 8/10] Train Loss = 8.3065\n",
      "  [Epoch 9/10] Train Loss = 8.3072\n",
      "  [Epoch 10/10] Train Loss = 8.3078\n",
      "  Test Loss (d=3, p=64): 6.8267\n",
      "\n",
      "Training Deep Network with d=4, p=16\n",
      "  [Epoch 1/10] Train Loss = 8.5335\n",
      "  [Epoch 2/10] Train Loss = 8.3118\n",
      "  [Epoch 3/10] Train Loss = 8.3099\n",
      "  [Epoch 4/10] Train Loss = 8.3076\n",
      "  [Epoch 5/10] Train Loss = 8.3062\n",
      "  [Epoch 6/10] Train Loss = 8.3050\n",
      "  [Epoch 7/10] Train Loss = 8.3041\n",
      "  [Epoch 8/10] Train Loss = 8.3045\n",
      "  [Epoch 9/10] Train Loss = 8.3039\n",
      "  [Epoch 10/10] Train Loss = 8.3032\n",
      "  Test Loss (d=4, p=16): 6.8181\n",
      "\n",
      "Training Deep Network with d=4, p=32\n",
      "  [Epoch 1/10] Train Loss = 8.6215\n",
      "  [Epoch 2/10] Train Loss = 8.1899\n",
      "  [Epoch 3/10] Train Loss = 8.1714\n",
      "  [Epoch 4/10] Train Loss = 8.1777\n",
      "  [Epoch 5/10] Train Loss = 8.1455\n",
      "  [Epoch 6/10] Train Loss = 8.3112\n",
      "  [Epoch 7/10] Train Loss = 8.3018\n",
      "  [Epoch 8/10] Train Loss = 8.3027\n",
      "  [Epoch 9/10] Train Loss = 8.3041\n",
      "  [Epoch 10/10] Train Loss = 8.3053\n",
      "  Test Loss (d=4, p=32): 6.8323\n",
      "\n",
      "Training Deep Network with d=4, p=64\n",
      "  [Epoch 1/10] Train Loss = 8.9746\n",
      "  [Epoch 2/10] Train Loss = 8.2993\n",
      "  [Epoch 3/10] Train Loss = 8.2993\n",
      "  [Epoch 4/10] Train Loss = 8.3019\n",
      "  [Epoch 5/10] Train Loss = 8.3038\n",
      "  [Epoch 6/10] Train Loss = 8.3050\n",
      "  [Epoch 7/10] Train Loss = 8.3056\n",
      "  [Epoch 8/10] Train Loss = 8.3065\n",
      "  [Epoch 9/10] Train Loss = 8.3070\n",
      "  [Epoch 10/10] Train Loss = 8.3073\n",
      "  Test Loss (d=4, p=64): 6.8274\n"
     ]
    }
   ],
   "source": [
    "# try 2-layer, 3-layer, 4-layer\n",
    "d_candidates = [2, 3, 4]\n",
    "# each layer has 16, 32, or 64 neurons\n",
    "p_candidates = [16, 32, 64]\n",
    "\n",
    "results = deep_network_experiment(\n",
    "    d_values=d_candidates,\n",
    "    p_values=p_candidates,\n",
    "    train_dataloader=train_dataloader,\n",
    "    test_dataloader=validation_dataloader,\n",
    "    input_dim=512,\n",
    "    num_epochs=10,\n",
    "    learning_rate=0.001\n",
    ")"
   ]
  },
  {
   "cell_type": "code",
   "execution_count": 24,
   "id": "301ad4be-101b-42fc-8be3-3339a605cad0",
   "metadata": {},
   "outputs": [
    {
     "name": "stdout",
     "output_type": "stream",
     "text": [
      "\n",
      "Best Deep Network -> d=2, p=16 with Test Loss = 6.8160\n"
     ]
    }
   ],
   "source": [
    "# Find the best combination of (d, p) that gives the lowest test loss\n",
    "best_combo = min(results, key=results.get)\n",
    "best_test_loss = results[best_combo]\n",
    "\n",
    "print(f\"\\nBest Deep Network -> d={best_combo[0]}, p={best_combo[1]} with Test Loss = {best_test_loss:.4f}\")\n"
   ]
  },
  {
   "cell_type": "markdown",
   "id": "0e50aba8-f907-437b-b261-a46ace7a96e4",
   "metadata": {},
   "source": [
    "## Plot the results"
   ]
  },
  {
   "cell_type": "code",
   "execution_count": 25,
   "id": "bb58a628-9aa0-439f-b752-379845fda733",
   "metadata": {},
   "outputs": [
    {
     "data": {
      "image/png": "[encoded data removed]",
      "text/plain": [
       "<Figure size 1000x600 with 1 Axes>"
      ]
     },
     "metadata": {},
     "output_type": "display_data"
    }
   ],
   "source": [
    "dp_labels = []\n",
    "dp_losses = []\n",
    "for (d, p), loss_val in results.items():\n",
    "    dp_labels.append(f\"d={d}, p={p}\")\n",
    "    dp_losses.append(loss_val)\n",
    "\n",
    "plt.figure(figsize=(10, 6))\n",
    "plt.bar(dp_labels, dp_losses)\n",
    "plt.xticks(rotation=45)\n",
    "plt.xlabel(\"Network Configuration (Depth d, Width p)\")\n",
    "plt.ylabel(\"Test Loss\")\n",
    "plt.title(\"Deep Network Hyperparameter Search Results\")\n",
    "plt.show()"
   ]
  },
  {
   "cell_type": "markdown",
   "id": "b1b40c9c-d8a2-4212-bc9f-2ce89d2e5caf",
   "metadata": {},
   "source": [
    "### 4. Conclusion\n",
    "The shallow network’s performance plateaued around hidden layer sizes of n = 4–32, achieving a best test loss of ~6.828.\n",
    "The deeper network with (d=4, p=32) reached a test loss of ~6.815, providing a modest improvement over the shallow model.\n"
   ]
  },
  {
   "cell_type": "code",
   "execution_count": null,
   "id": "918fb860-8d15-4858-a56a-083534b2c960",
   "metadata": {},
   "outputs": [],
   "source": []
  }
 ],
 "metadata": {
  "kernelspec": {
   "display_name": "Python 3 (ipykernel)",
   "language": "python",
   "name": "python3"
  },
  "language_info": {
   "codemirror_mode": {
    "name": "ipython",
    "version": 3
   },
   "file_extension": ".py",
   "mimetype": "text/x-python",
   "name": "python",
   "nbconvert_exporter": "python",
   "pygments_lexer": "ipython3",
   "version": "3.13.0"
  }
 },
 "nbformat": 4,
 "nbformat_minor": 5
}
